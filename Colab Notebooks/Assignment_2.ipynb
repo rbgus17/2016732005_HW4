{
  "nbformat": 4,
  "nbformat_minor": 0,
  "metadata": {
    "colab": {
      "name": "PythonBasic_Assignment_1.ipynb",
      "provenance": [],
      "collapsed_sections": []
    },
    "kernelspec": {
      "name": "python3",
      "display_name": "Python 3"
    },
    "language_info": {
      "name": "python"
    }
  },
  "cells": [
    {
      "cell_type": "markdown",
      "metadata": {
        "id": "HI3htaMJOLnV"
      },
      "source": [
        "#**Assignment 2 - Python 기초 복습하기 1**\n",
        "---\n",
        "By 이기백  \n",
        "인공지능응용 두 번째 과제\n",
        "\n",
        "## Technologies Used\n",
        "* Google Colab\n",
        "* Jupyter Notebook\n",
        "* Markdown\n",
        "* Python\n",
        "\n",
        "## Description\n",
        "이 과제에서는 `Python` 기초 문법을 복습합니다.  \n",
        "이 문서는 Google Colab에서 Markdown 문법을 이용해 작성되었습니다.\n",
        "\n",
        "## Setup/Installation Requirements\n",
        "* KLAS에서 과제의 첨부파일(노트)을 다운로드\n",
        "* 구글드라이브에 노트 업로드\n",
        "  - 노트의 파일명을 **학번\\_이름\\_Assignment_2.ipynb**로 변경\n",
        "* _Colab_ 에서 해당 노트에 Problem 해결\n",
        "* 해당 노트를 다운로드한 후 KLAS에서 과제로 제출\n",
        "\n"
      ]
    },
    {
      "cell_type": "markdown",
      "metadata": {
        "id": "6Y7nwpqZdmQ1"
      },
      "source": [
        "## Problem 1\n",
        "* 강의자료 예제 실행해보기  \n",
        "  + 강의자료의 **Python 기초 문법** 예제들을 이 아래에 코드블럭으로 재작성하고 실행\n",
        "\n"
      ]
    },
    {
      "cell_type": "markdown",
      "metadata": {
        "id": "dZCjgtqsdn2j"
      },
      "source": [
        "## Problem 2\n",
        "* 프로그램 작성해보기\n",
        "  + 제시된 출력결과를 보고, 아래 미완성 프로그램을 완성\n",
        "\n"
      ]
    },
    {
      "cell_type": "code",
      "metadata": {
        "id": "7NtLnfUydyUR"
      },
      "source": [
        "name = \n",
        "age = \n",
        "grade = \n",
        "\n",
        "print('' % name)\n",
        "print('' % age)\n",
        "print('' % grade)\n"
      ],
      "execution_count": null,
      "outputs": []
    },
    {
      "cell_type": "markdown",
      "metadata": {
        "id": "PqXDUnCkfIUn"
      },
      "source": [
        "> 출력결과\n",
        "\n",
        "What is your name? (키보드입력)Kim  \n",
        "How old are you? (키보드입력)20  \n",
        "What is your grade point average? (키보드입력)4.5  \n",
        "Your name is Kim  \n",
        "Your age is 20  \n",
        "Your grade is 4.5  "
      ]
    },
    {
      "cell_type": "markdown",
      "metadata": {
        "id": "pWoLA53bdr6u"
      },
      "source": [
        "## Known Bugs\n",
        "* 알려진 <u>버그</u> 없음\n",
        "\n",
        "## License\n",
        ">[MIT License](https://opensource.org/licenses/MIT)\n",
        "\n",
        "Copyright (c) 2021 Ki-Baek Lee"
      ]
    }
  ]
}